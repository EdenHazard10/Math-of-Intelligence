{
 "cells": [
  {
   "cell_type": "markdown",
   "metadata": {},
   "source": [
    "# Newton's Method for Logistic Regression - The Math of Intelligence (Week 2)\n",
    "\n",
    "\n",
    "![alt text](https://plot.ly/~florianh/140/logistic-regression-1-feature.png \"Logo Title Text 1\")\n",
    "\n",
    "## Our Task\n",
    "\n",
    "We're going to compute the probability that someone has Diabetes given their height, weight, and blood pressure. We'll generate this data ourselves (toy data), plot it, learn a logistic regression curve using Newton's Method for Optimization, then use that curve to predict the probability someone new with these 3 features has diabetes. We'll use Calculus, Probability Theory, Statistics, and Linear Algebra to do this. Get ready, ish is about to go down.\n",
    "\n",
    "## What is Logistic regression?\n",
    "\n",
    "Logistic regression is named for the function used at the core of the method, the logistic function. In linear regression, the outcome (dependent variable) is continuous. It can have any one of an infinite number of possible values. In logistic regression, the outcome (dependent variable) has only a limited number of possible values. Logistic Regression is used when response variable is categorical in nature.\n",
    "\n",
    "The logistic function, also called the sigmoid function is an S-shaped curve that can take any real-valued number and map it into a value between 0 and 1, but never exactly at those limits.\n",
    "\n",
    "![alt text](https://qph.ec.quoracdn.net/main-qimg-05edc1873d0103e36064862a45566dba \"Logo Title Text 1\")\n",
    "\n",
    "Where e is the base of the natural logarithms (Euler’s number or the EXP() function in your spreadsheet) and value is the actual numerical value that you want to transform. E is a really convenient number for math, for example Whenever you take the derivative of e^x (that's e to the x), you get e^x back again.  It's the only function on Earth that will do that.\n",
    "\n",
    "Logistic regression uses an equation as the representation, similar to linear regression. The central premise of Logistic Regression is the assumption that your input space can be separated into two nice ‘regions’, one for each class, by a linear(read: straight) boundary. Your data must be linearly seperable in n dimensions\n",
    "\n",
    "![alt text](https://codesachin.files.wordpress.com/2015/08/linearly_separable_4.png \"Logo Title Text 1\")\n",
    "\n",
    "So if we had the following function\n",
    "\n",
    "![alt text](https://s0.wp.com/latex.php?latex=%5Cbeta_0+%2B+%5Cbeta_1+x_1+%2B+%5Cbeta_2+x_2&bg=ffffff&fg=555555&s=0&zoom=2 \"Logo Title Text 1\")\n",
    "\n",
    "Given some point (a,b), if we plugged it in, the equation could output a positive result (for one class), negative result (for the other class), or 0 (the point lies right on the decision boundary).\n",
    "\n",
    "So  we have a function that outputs a value in (-infinity, +infinity) given an input data point. But how do we map this to the probability P_+, that goes from [0, 1]? The answer, is in the odds function.\n",
    "\n",
    "![alt text](http://i.imgur.com/bz8XqI8.png \"Logo Title Text 1\")\n",
    "\n",
    "Let $P(X)$ denote the probability of an event X occurring. In that case, the odds ratio (OR(X)) is defined by \n",
    "\n",
    "![alt text](https://s0.wp.com/latex.php?latex=%5Cfrac%7BP%28X%29%7D%7B1-P%28X%29%7D&bg=ffffff&fg=555555&s=0&zoom=2 \"Logo Title Text 1\")\n",
    "\n",
    "which is essentially the ratio of the probability of the event happening, vs. it not happening. It is clear that probability and odds convey the exact same information. But as $P(X)$ goes from 0 to 1, OR(X) goes from 0 to infinity\n",
    "\n",
    "Input values (x) are combined linearly using weights or coefficient values (referred to as the Greek capital letter Beta) to predict an output value (y). A key difference from linear regression is that the output value being modeled is a binary values (0 or 1) (discrete) rather than a numeric value (continuous)\n",
    "\n",
    "![alt text](https://image.slidesharecdn.com/ihcclogisticregression-130728061733-phpapp02/95/logistic-regression-in-casecontrol-study-14-638.jpg?cb=1374992365 \"Logo Title Text 1\")\n",
    "\n",
    "However, we are still not quite there yet, since our boundary function gives a value from –infinity to infinity. So what we do, is take the logarithm of OR(X), called the log-odds function. Mathematically, as OR(X) goes from 0 to infinity, log(OR(X)) goes from –infinity to infinity\n",
    "\n",
    "We are modeling the probability that an input (X) belongs to the default class (Y=1). The probability prediction must be transformed into a binary values (0 or 1) in order to actually make a probability prediction. Logistic regression is a linear method, but the predictions are transformed using the logistic function. The impact of this is that we can no longer understand the predictions as a linear combination of the inputs as we can with linear regression.\n",
    "\n",
    "Wait, how is the boundary function computed? Well we want to maximize the likelihood that a random data point gets classified correctly. We call this Maximimum likelihood estimation.\n",
    "\n",
    "Maximum likelihood estimation is a general approach to estimating parameters in statistical models by maximizing the likelihood function. MLE applied to deep networks gets a special name “Backpropagation\". MLE is defined as\n",
    "\n",
    "L(θ|X)=f(X|θ)\n",
    "\n",
    "Newton's Method is an optimization algorithm. You can use this algorithm to find maximum (or minimum) of many different functions, including the likelihood function. You can obtain maximum likelihood estimates using different methods and using an optimization algorithm is one of them. \n",
    "\n",
    "## Why use Newton's Method for optimizing?\n",
    "\n",
    "- Newton’s method usually converges faster than gradient\n",
    "descent when maximizing logistic regression log\n",
    "likelihood.\n",
    "- Each iteration is more expensive than gradient descent\n",
    "because of calculating inverse of Hessian\n",
    "- As long as data points are not very large, Newton’s\n",
    "methods are preferred\n",
    "\n",
    "## What are some other good examples of logistic regression + newton's method? \n",
    "\n",
    "1 https://github.com/hhl60492/newton_logistic/blob/master/main.py (Spam Classification)\n",
    "2 https://github.com/yangarbiter/logistic_regression_newton-cg (Click Through Rate Classification)"
   ]
  },
  {
   "cell_type": "code",
   "execution_count": 2,
   "metadata": {
    "collapsed": false
   },
   "outputs": [],
   "source": [
    "%matplotlib inline\n",
    "\n",
    "#matrix math\n",
    "import numpy as np\n",
    "#data manipulation\n",
    "import pandas as pd\n",
    "#matrix data structure\n",
    "from patsy import dmatrices\n",
    "#for error logging\n",
    "import warnings"
   ]
  },
  {
   "cell_type": "markdown",
   "metadata": {},
   "source": [
    "<a name=\"data_setup\"></a>\n",
    "## Setup\n",
    "\n",
    "### Parameter / Data Setup\n",
    "\n",
    "In the below cells, there are various parameters and options to play with involving data creation, algorithm settings, and what model you want to try and fit."
   ]
  },
  {
   "cell_type": "code",
   "execution_count": 3,
   "metadata": {
    "collapsed": true
   },
   "outputs": [],
   "source": [
    "#outputs probability between 0 and 1, used to help define our logistic regression curve\n",
    "def sigmoid(x):\n",
    "    '''Sigmoid function of x.'''\n",
    "    return 1/(1+np.exp(-x))"
   ]
  },
  {
   "cell_type": "markdown",
   "metadata": {},
   "source": [
    "![alt text](http://i.imgur.com/TfPVnME.png \"Logo Title Text 1\")"
   ]
  },
  {
   "cell_type": "code",
   "execution_count": 4,
   "metadata": {
    "collapsed": true
   },
   "outputs": [],
   "source": [
    "#makes the random numbers predictable\n",
    "#(pseudo-)random numbers work by starting with a number (the seed), \n",
    "#multiplying it by a large number, then taking modulo of that product. \n",
    "#The resulting number is then used as the seed to generate the next \"random\" number. \n",
    "#When you set the seed (every time), it does the same thing every time, giving you the same numbers.\n",
    "#good for reproducing results for debugging\n",
    "\n",
    "\n",
    "np.random.seed(0) # set the seed\n",
    "\n",
    "##Step 1 - Define model parameters (hyperparameters)\n",
    "\n",
    "## algorithm settings\n",
    "#the minimum threshold for the difference between the predicted output and the actual output\n",
    "#this tells our model when to stop learning, when our prediction capability is good enough\n",
    "tol=1e-8 # convergence tolerance\n",
    "\n",
    "lam = None # l2-regularization\n",
    "#how long to train for?\n",
    "max_iter = 20 # maximum allowed iterations\n",
    "\n",
    "## data creation settings\n",
    "#Covariance measures how two variables move together. \n",
    "#It measures whether the two move in the same direction (a positive covariance) \n",
    "#or in opposite directions (a negative covariance). \n",
    "r = 0.95 # covariance between x and z\n",
    "n = 1000 # number of observations (size of dataset to generate) \n",
    "sigma = 1 # variance of noise - how spread out is the data?\n",
    "\n",
    "## model settings\n",
    "beta_x, beta_z, beta_v = -4, .9, 1 # true beta coefficients\n",
    "var_x, var_z, var_v = 1, 1, 4 # variances of inputs\n",
    "\n",
    "## the model specification you want to fit\n",
    "formula = 'y ~ x + z + v + np.exp(x) + I(v**2 + z)'"
   ]
  },
  {
   "cell_type": "code",
   "execution_count": 5,
   "metadata": {
    "collapsed": false,
    "scrolled": true
   },
   "outputs": [
    {
     "name": "stderr",
     "output_type": "stream",
     "text": [
      "/Users/jiarui1/anaconda/envs/dlp3/lib/python3.5/site-packages/ipykernel/__main__.py:4: RuntimeWarning: overflow encountered in exp\n"
     ]
    },
    {
     "data": {
      "text/html": [
       "<div>\n",
       "<table border=\"1\" class=\"dataframe\">\n",
       "  <thead>\n",
       "    <tr style=\"text-align: right;\">\n",
       "      <th></th>\n",
       "      <th>Intercept</th>\n",
       "      <th>x</th>\n",
       "      <th>z</th>\n",
       "      <th>v</th>\n",
       "      <th>np.exp(x)</th>\n",
       "      <th>I(v ** 2 + z)</th>\n",
       "    </tr>\n",
       "  </thead>\n",
       "  <tbody>\n",
       "    <tr>\n",
       "      <th>0</th>\n",
       "      <td>1.0</td>\n",
       "      <td>-1.805133</td>\n",
       "      <td>-1.678592</td>\n",
       "      <td>-230.536312</td>\n",
       "      <td>0.164453</td>\n",
       "      <td>53145.312449</td>\n",
       "    </tr>\n",
       "    <tr>\n",
       "      <th>1</th>\n",
       "      <td>1.0</td>\n",
       "      <td>-1.320743</td>\n",
       "      <td>-0.612110</td>\n",
       "      <td>-321.120883</td>\n",
       "      <td>0.266937</td>\n",
       "      <td>103118.009125</td>\n",
       "    </tr>\n",
       "    <tr>\n",
       "      <th>2</th>\n",
       "      <td>1.0</td>\n",
       "      <td>-1.689545</td>\n",
       "      <td>-1.998587</td>\n",
       "      <td>0.006285</td>\n",
       "      <td>0.184604</td>\n",
       "      <td>-1.998547</td>\n",
       "    </tr>\n",
       "    <tr>\n",
       "      <th>3</th>\n",
       "      <td>1.0</td>\n",
       "      <td>-0.914205</td>\n",
       "      <td>-0.962069</td>\n",
       "      <td>-56.335960</td>\n",
       "      <td>0.400835</td>\n",
       "      <td>3172.778273</td>\n",
       "    </tr>\n",
       "    <tr>\n",
       "      <th>4</th>\n",
       "      <td>1.0</td>\n",
       "      <td>0.036999</td>\n",
       "      <td>0.166842</td>\n",
       "      <td>-0.033775</td>\n",
       "      <td>1.037692</td>\n",
       "      <td>0.167983</td>\n",
       "    </tr>\n",
       "  </tbody>\n",
       "</table>\n",
       "</div>"
      ],
      "text/plain": [
       "   Intercept         x         z           v  np.exp(x)  I(v ** 2 + z)\n",
       "0        1.0 -1.805133 -1.678592 -230.536312   0.164453   53145.312449\n",
       "1        1.0 -1.320743 -0.612110 -321.120883   0.266937  103118.009125\n",
       "2        1.0 -1.689545 -1.998587    0.006285   0.184604      -1.998547\n",
       "3        1.0 -0.914205 -0.962069  -56.335960   0.400835    3172.778273\n",
       "4        1.0  0.036999  0.166842   -0.033775   1.037692       0.167983"
      ]
     },
     "execution_count": 5,
     "metadata": {},
     "output_type": "execute_result"
    }
   ],
   "source": [
    "## Step 2 - Generate and organize our data\n",
    "\n",
    "#The multivariate normal, multinormal or Gaussian distribution is a generalization of the one-dimensional normal \n",
    "#distribution to higher dimensions. Such a distribution is specified by its mean and covariance matrix.\n",
    "#so we generate values input values - (x, v, z) using normal distributions\n",
    "\n",
    "#A probability distribution is a function that provides us the probabilities of all \n",
    "#possible outcomes of a stochastic process. \n",
    "\n",
    "#lets keep x and z closely related (height and weight)\n",
    "x, z = np.random.multivariate_normal([0,0], [[var_x,r],[r,var_z]], n).T\n",
    "#blood presure\n",
    "v = np.random.normal(0,var_v,n)**3\n",
    "\n",
    "#create a pandas dataframe (easily parseable object for manipulation)\n",
    "A = pd.DataFrame({'x' : x, 'z' : z, 'v' : v})\n",
    "#compute the log odds for our 3 independent variables\n",
    "#using the sigmoid function \n",
    "A['log_odds'] = sigmoid(A[['x','z','v']].dot([beta_x,beta_z,beta_v]) + sigma*np.random.normal(0,1,n))\n",
    "\n",
    "\n",
    "\n",
    "#compute the probability sample from binomial distribution\n",
    "#A binomial random variable is the number of successes x has in n repeated trials of a binomial experiment. \n",
    "#The probability distribution of a binomial random variable is called a binomial distribution. \n",
    "A['y'] = [np.random.binomial(1,p) for p in A.log_odds]\n",
    "\n",
    "#create a dataframe that encompasses our input data, model formula, and outputs\n",
    "y, X = dmatrices(formula, A, return_type='dataframe')\n",
    "\n",
    "#print it\n",
    "X.head()"
   ]
  },
  {
   "cell_type": "code",
   "execution_count": 8,
   "metadata": {
    "collapsed": false
   },
   "outputs": [
    {
     "data": {
      "text/plain": [
       "pandas.core.frame.DataFrame"
      ]
     },
     "execution_count": 8,
     "metadata": {},
     "output_type": "execute_result"
    }
   ],
   "source": [
    "type(y)"
   ]
  },
  {
   "cell_type": "markdown",
   "metadata": {},
   "source": [
    "<a name=\"algorithms\"></a>\n",
    "<hr>\n",
    "### Algorithm Setup\n",
    "\n",
    "We begin with a quick function for catching singular matrix errors that we will use to decorate our Newton steps."
   ]
  },
  {
   "cell_type": "code",
   "execution_count": 6,
   "metadata": {
    "collapsed": true
   },
   "outputs": [],
   "source": [
    "#like dividing by zero (Wtff omgggggg universe collapses)\n",
    "def catch_singularity(f):\n",
    "    '''Silences LinAlg Errors and throws a warning instead.'''\n",
    "    \n",
    "    def silencer(*args, **kwargs):\n",
    "        try:\n",
    "            return f(*args, **kwargs)\n",
    "        except np.linalg.LinAlgError:\n",
    "            warnings.warn('Algorithm terminated - singular Hessian!')\n",
    "            return args[0]\n",
    "    return silencer\n"
   ]
  },
  {
   "cell_type": "markdown",
   "metadata": {},
   "source": [
    "<a name=\"newton\"></a>\n",
    "<hr>\n",
    "### Explanation of a Single Newton Step\n",
    "\n",
    "Recall that Newton's method for maximizing / minimizing a given function $f(\\beta)$ iteratively computes the following estimate:\n",
    "\n",
    "$$\n",
    "\\beta^+ = \\beta - Hf(\\beta)^{-1}\\nabla f(\\beta)\n",
    "$$\n",
    "\n",
    "The Hessian of the log-likelihood for logistic regression is given by:\n",
    "\n",
    "hessian of our function = negative tranpose of (N times (p+1) times (N x N diagional matrix of weights, each is p*(1-p) times X again\n",
    "\n",
    "\n",
    "$$\n",
    "Hf(\\beta) = -X^TWX\n",
    "$$\n",
    "and the gradient is:\n",
    "\n",
    "gradient of our function = tranpose of X times (column vector - N vector of probabilities)\n",
    "\n",
    "$$\n",
    "\\nabla f(\\beta) = X^T(y-p)\n",
    "$$\n",
    "where\n",
    "$$\n",
    "W := \\text{diag}\\left(p(1-p)\\right)\n",
    "$$\n",
    "and $p$ are the predicted probabilites computed at the current value of $\\beta$.\n",
    "\n",
    "### Connection to Iteratively Reweighted Least Squares (IRLS)\n",
    "*For logistic regression, this step is actually equivalent to computing a weighted least squares estimator at each iteration!* \n",
    "The method of least squares is about estimating\n",
    "parameters by minimizing the squared discrepancies\n",
    "between observed data, on the one hand, and their\n",
    "expected values on the other\n",
    "\n",
    "I.e.,\n",
    "$$\n",
    "\\beta^+ = \\arg\\min_\\beta (z-X\\beta)^TW(z-X\\beta)\n",
    "$$\n",
    "with $W$ as before and the *adjusted response* $z$ is given by\n",
    "$$\n",
    "z := X\\beta + W^{-1}(y-p)\n",
    "$$\n",
    "\n",
    "**Takeaway:** This is fun, but in fact it can be leveraged to derive asymptotics and inferential statistics about the computed MLE $\\beta^*$!\n",
    "\n",
    "### Our implementations\n",
    "Below we implement a single step of Newton's method, and we compute $Hf(\\beta)^{-1}\\nabla f(\\beta)$ using `np.linalg.lstsq(A,b)` to solve the equation $Ax = b$.  Note that this does not require us to compute the actual inverse of the Hessian."
   ]
  },
  {
   "cell_type": "code",
   "execution_count": 7,
   "metadata": {
    "collapsed": true
   },
   "outputs": [],
   "source": [
    "@catch_singularity\n",
    "def newton_step(curr, X, lam=None):\n",
    "    '''One naive step of Newton's Method'''\n",
    "    \n",
    "    #how to compute inverse? http://www.mathwarehouse.com/algebra/matrix/images/square-matrix/inverse-matrix.gif\n",
    "    \n",
    "    ## compute necessary objects\n",
    "    #create probability matrix, miniminum 2 dimensions, tranpose (flip it)\n",
    "    p = np.array(sigmoid(X.dot(curr[:,0])), ndmin=2).T\n",
    "    #create weight matrix from it\n",
    "    W = np.diag((p*(1-p))[:,0])\n",
    "    #derive the hessian \n",
    "    hessian = X.T.dot(W).dot(X)\n",
    "    #derive the gradient\n",
    "    grad = X.T.dot(y-p)\n",
    "    \n",
    "    ## regularization step (avoiding overfitting)\n",
    "    if lam:\n",
    "        # Return the least-squares solution to a linear matrix equation\n",
    "        step, *_ = np.linalg.lstsq(hessian + lam*np.eye(curr.shape[0]), grad)\n",
    "    else:\n",
    "        step, *_ = np.linalg.lstsq(hessian, grad)\n",
    "        \n",
    "    ## update our \n",
    "    beta = curr + step\n",
    "    \n",
    "    return beta"
   ]
  },
  {
   "cell_type": "markdown",
   "metadata": {},
   "source": [
    "Next, we implement Newton's method in a *slightly* different way; this time, at each iteration, we actually compute the full inverse of the Hessian using `np.linalg.inv()`."
   ]
  },
  {
   "cell_type": "code",
   "execution_count": 8,
   "metadata": {
    "collapsed": false
   },
   "outputs": [],
   "source": [
    "@catch_singularity\n",
    "def alt_newton_step(curr, X, lam=None):\n",
    "    '''One naive step of Newton's Method'''\n",
    "    \n",
    "    ## compute necessary objects\n",
    "    p = np.array(sigmoid(X.dot(curr[:,0])), ndmin=2).T\n",
    "    W = np.diag((p*(1-p))[:,0])\n",
    "    hessian = X.T.dot(W).dot(X)\n",
    "    grad = X.T.dot(y-p)\n",
    "    \n",
    "    ## regularization\n",
    "    if lam:\n",
    "        #Compute the inverse of a matrix.\n",
    "        step = np.dot(np.linalg.inv(hessian + lam*np.eye(curr.shape[0])), grad)\n",
    "    else:\n",
    "        step = np.dot(np.linalg.inv(hessian), grad)\n",
    "        \n",
    "    ## update our weights\n",
    "    beta = curr + step\n",
    "    \n",
    "    return beta"
   ]
  },
  {
   "cell_type": "markdown",
   "metadata": {},
   "source": [
    "<a name=\"conv\"></a>\n",
    "<hr>\n",
    "### Convergence Setup\n",
    "\n",
    "First we implement coefficient convergence; this stopping criterion results in convergence whenever\n",
    "$$\n",
    "\\|\\beta^+ - \\beta\\|_\\infty < \\epsilon\n",
    "$$\n",
    "where $\\epsilon$ is a given tolerance."
   ]
  },
  {
   "cell_type": "code",
   "execution_count": 9,
   "metadata": {
    "collapsed": true
   },
   "outputs": [],
   "source": [
    "def check_coefs_convergence(beta_old, beta_new, tol, iters):\n",
    "    '''Checks whether the coefficients have converged in the l-infinity norm.\n",
    "    Returns True if they have converged, False otherwise.'''\n",
    "    #calculate the change in the coefficients\n",
    "    coef_change = np.abs(beta_old - beta_new)\n",
    "    \n",
    "    #if change hasn't reached the threshold and we have more iterations to go, keep training\n",
    "    return not (np.any(coef_change>tol) & (iters < max_iter))"
   ]
  },
  {
   "cell_type": "markdown",
   "metadata": {},
   "source": [
    "<a name=\"numerics\"></a>\n",
    "<hr>\n",
    "## Numerical Examples\n",
    "\n",
    "### Standard Newton with Coefficient Convergence"
   ]
  },
  {
   "cell_type": "code",
   "execution_count": 10,
   "metadata": {
    "collapsed": false,
    "scrolled": true
   },
   "outputs": [
    {
     "name": "stdout",
     "output_type": "stream",
     "text": [
      "Iterations : 19\n",
      "Beta : [[  2.51105854e+31]\n",
      " [  4.72267452e+30]\n",
      " [ -4.19417010e+30]\n",
      " [  8.90225261e+30]\n",
      " [ -2.72506647e+31]\n",
      " [  6.38056846e+30]]\n"
     ]
    },
    {
     "name": "stderr",
     "output_type": "stream",
     "text": [
      "/Users/jiarui1/anaconda/envs/dlp3/lib/python3.5/site-packages/ipykernel/__main__.py:4: RuntimeWarning: overflow encountered in exp\n"
     ]
    }
   ],
   "source": [
    "## initial conditions\n",
    "#initial coefficients (weight values), 2 copies, we'll update one\n",
    "beta_old, beta = np.ones((len(X.columns),1)), np.zeros((len(X.columns),1))\n",
    "\n",
    "#num iterations we've done so far\n",
    "iter_count = 0\n",
    "#have we reached convergence?\n",
    "coefs_converged = False\n",
    "\n",
    "#if we haven't reached convergence... (training step)\n",
    "while not coefs_converged:\n",
    "    \n",
    "    #set the old coefficients to our current\n",
    "    beta_old = beta\n",
    "    #perform a single step of newton's optimization on our data, set our updated beta values\n",
    "    beta = newton_step(beta, X, lam=lam)\n",
    "    #increment the number of iterations\n",
    "    iter_count += 1\n",
    "    \n",
    "    #check for convergence between our old and new beta values\n",
    "    coefs_converged = check_coefs_convergence(beta_old, beta, tol, iter_count)\n",
    "    \n",
    "print('Iterations : {}'.format(iter_count))\n",
    "print('Beta : {}'.format(beta))"
   ]
  },
  {
   "cell_type": "code",
   "execution_count": null,
   "metadata": {
    "collapsed": true
   },
   "outputs": [],
   "source": []
  }
 ],
 "metadata": {
  "kernelspec": {
   "display_name": "Python 3",
   "language": "python",
   "name": "python3"
  },
  "language_info": {
   "codemirror_mode": {
    "name": "ipython",
    "version": 3
   },
   "file_extension": ".py",
   "mimetype": "text/x-python",
   "name": "python",
   "nbconvert_exporter": "python",
   "pygments_lexer": "ipython3",
   "version": "3.5.2"
  }
 },
 "nbformat": 4,
 "nbformat_minor": 0
}
