{
 "cells": [
  {
   "cell_type": "markdown",
   "metadata": {},
   "source": [
    "# Support Vector Machine with Gradient Descent\n",
    "In this notebook, we will be building a Support Vector Machine to solve a 2-class classification problem by finding the optimal hyperplane that maximises the margin between the two data classes, through gradient descent.\n",
    "\n",
    "Support vectors are data points nearest to the hyperplane such that if they are removed, the position of the hyperplane will be affected.\n",
    "![img](https://camo.githubusercontent.com/ae3d247a4c7cf5bc9f4134a1a90c0df69b39e988/68747470733a2f2f7777772e64747265672e636f6d2f75706c6f616465642f70616765696d672f53766d4d617267696e322e6a7067)"
   ]
  },
  {
   "cell_type": "markdown",
   "metadata": {},
   "source": [
    "## Dependencies"
   ]
  },
  {
   "cell_type": "code",
   "execution_count": 43,
   "metadata": {
    "collapsed": true
   },
   "outputs": [],
   "source": [
    "import numpy as np\n",
    "import pandas as pd\n",
    "import matplotlib.pyplot as plt\n",
    "%matplotlib inline"
   ]
  },
  {
   "cell_type": "markdown",
   "metadata": {},
   "source": [
    "## Data Preparation"
   ]
  },
  {
   "cell_type": "code",
   "execution_count": 32,
   "metadata": {
    "collapsed": true
   },
   "outputs": [],
   "source": [
    "# Input Data\n",
    "X = np.array([[-2,4,-1],[4,1,-1],[1,6,-1],[2,4,-1],[6,2,-1]])\n",
    "y = np.array([-1,-1,1,1,1])"
   ]
  },
  {
   "cell_type": "markdown",
   "metadata": {},
   "source": [
    "## Data Visualisation"
   ]
  },
  {
   "cell_type": "code",
   "execution_count": 33,
   "metadata": {
    "collapsed": false,
    "scrolled": true
   },
   "outputs": [
    {
     "data": {
      "text/plain": [
       "[<matplotlib.lines.Line2D at 0x108463cc0>]"
      ]
     },
     "execution_count": 33,
     "metadata": {},
     "output_type": "execute_result"
    },
    {
     "data": {
      "image/png": "[encoded data removed]",
      "text/plain": [
       "<matplotlib.figure.Figure at 0x10914d1d0>"
      ]
     },
     "metadata": {},
     "output_type": "display_data"
    }
   ],
   "source": [
    "def plot_data(X):   \n",
    "    for d, sample in enumerate(X):\n",
    "        if d < 2:\n",
    "            # Plot negative samples (first 2)\n",
    "            plt.scatter(sample[0], sample[1], s=120, marker='_', linewidths=2)\n",
    "        else:\n",
    "            # Plot positive samples (last 3)\n",
    "            plt.scatter(sample[0], sample[1], s=120, marker='+', linewidths=2)\n",
    "\n",
    "plot_data(X)\n",
    "# Plot a random hyperplane\n",
    "plt.plot([-2,6], [6,0.5])"
   ]
  },
  {
   "cell_type": "markdown",
   "metadata": {},
   "source": [
    "## Loss and Objective Function  \n",
    "\n",
    "\n",
    "#### Hinge loss is used for maximum margin classification:  \n",
    "<br>\n",
    "$$\n",
    "c(x, y, f(x))= \n",
    "\\begin{cases}\n",
    "    0,& \\text{if } y*f(x)\\geq 1\\\\\n",
    "    1-y*f(x),              & \\text{else}\n",
    "\\end{cases}\n",
    "$$\n",
    "<br>\n",
    "y refers to true label, f(x) refers to the predicted label.\n",
    "\n",
    "#### Objective Function\n",
    "\n",
    "$$\\underset{w}{min}\\ \\lambda\\parallel w\\parallel^2 + \\ \\sum_{i=1}^n\\big(1-y_i \\langle x_i,w \\rangle\\big)_+$$\n",
    "<br>\n",
    "On the left side, is the regularization term, and on the right, is the loss function.  \n",
    "Lambda here is equal to 1/ epochs\n",
    "\n",
    "The objective function states out in mathematical terms the goal of this machine learning problem, which is to find the optimum W that defines the equation of the hyperplane.\n",
    "\n",
    "#### Derivative of Objective Function w.r.t W\n",
    "To apply gradient descent to find the optimum value of W (the minima), we need the partial derivatives of the loss and regularization term with respect to W.\n",
    "\n",
    "$$\n",
    "\\frac{\\delta}{\\delta w_k} \\lambda\\parallel w\\parallel^2 \\ = 2 \\lambda w_k\n",
    "$$\n",
    "\n",
    "$$\n",
    "\\frac{\\delta}{\\delta w_k} \\big(1-y_i \\langle x_i,w \\rangle\\big)_+ \\ = \\begin{cases}\n",
    "    0,& \\text{if } y_i \\langle x_i,w \\rangle\\geq 1\\\\\n",
    "    -y_ix_{ik},              & \\text{else}\n",
    "\\end{cases}\n",
    "$$\n",
    "\n",
    "#### Gradient Descent\n",
    "In each step of training, we then update W by subtracting from the current W, the product of learning rate and the partial derivatives:\n",
    "\n",
    "if $y_i⟨x_i,w⟩ < 1$:\n",
    "$$\n",
    "w = w + \\eta (y_ix_i - 2\\lambda w)\n",
    "$$\n",
    "else:\n",
    "$$\n",
    "w = w + \\eta (-2\\lambda w)\n",
    "$$\n"
   ]
  },
  {
   "cell_type": "code",
   "execution_count": 40,
   "metadata": {
    "collapsed": true
   },
   "outputs": [],
   "source": [
    "def plot_errors(errors):\n",
    "    plt.plot(errors, '|')\n",
    "    plt.ylim(0.5,1.5)\n",
    "    plt.axes().set_yticklabels([])\n",
    "    plt.xlabel('Epoch')\n",
    "    plt.ylabel('Misclassfied')\n",
    "    plt.show()"
   ]
  },
  {
   "cell_type": "code",
   "execution_count": 41,
   "metadata": {
    "collapsed": true
   },
   "outputs": [],
   "source": [
    "def svm_with_sgd(X, Y, lr, epochs):\n",
    "    w = np.zeros(len(X[0]))\n",
    "    errors = []\n",
    "    \n",
    "    for epoch in range(1, epochs):\n",
    "        error = 0\n",
    "        for i, x in enumerate(X):\n",
    "            # Gradient Descent\n",
    "            if(Y[i] * np.dot(X[i], w) < 1):\n",
    "                w = w + lr * (X[i] * Y[i] + (-2 * (1/epoch) * w))\n",
    "                error = 1\n",
    "            else:\n",
    "                w = w + lr * (-2 * (1/epoch) * w)\n",
    "        errors.append(error)\n",
    "    \n",
    "    plot_errors(errors)\n",
    "    return w"
   ]
  },
  {
   "cell_type": "code",
   "execution_count": 42,
   "metadata": {
    "collapsed": false
   },
   "outputs": [
    {
     "data": {
      "image/png": "[encoded data removed]",
      "text/plain": [
       "<matplotlib.figure.Figure at 0x108b32d68>"
      ]
     },
     "metadata": {},
     "output_type": "display_data"
    }
   ],
   "source": [
    "w = svm_sgd_plot(X, y)"
   ]
  },
  {
   "cell_type": "code",
   "execution_count": 37,
   "metadata": {
    "collapsed": false
   },
   "outputs": [
    {
     "data": {
      "text/plain": [
       "<matplotlib.quiver.Quiver at 0x1094c4ef0>"
      ]
     },
     "execution_count": 37,
     "metadata": {},
     "output_type": "execute_result"
    },
    {
     "data": {
      "image/png": "[encoded data removed]",
      "text/plain": [
       "<matplotlib.figure.Figure at 0x10891a518>"
      ]
     },
     "metadata": {},
     "output_type": "display_data"
    }
   ],
   "source": [
    "plot_data(X)\n",
    "\n",
    "# Adding test samples\n",
    "plt.scatter(2, 2, s=120, marker='_', linewidths=2, color='yellow')\n",
    "plt.scatter(4, 3, s=120, marker='+', linewidths=2, color='blue')\n",
    "\n",
    "# Print hyper plane calculated\n",
    "x2 = [w[0], w[1], -w[1], w[0]]\n",
    "x3 = [w[0], w[1], w[1], -w[0]]\n",
    "\n",
    "x2x3 = np.array([x2, x3])\n",
    "nX, nY, U, V = zip(*x2x3)\n",
    "ax = plt.gca()\n",
    "ax.quiver(nX,nY,U,V,scale=1, color='blue')"
   ]
  }
 ],
 "metadata": {
  "kernelspec": {
   "display_name": "Python 3",
   "language": "python",
   "name": "python3"
  },
  "language_info": {
   "codemirror_mode": {
    "name": "ipython",
    "version": 3
   },
   "file_extension": ".py",
   "mimetype": "text/x-python",
   "name": "python",
   "nbconvert_exporter": "python",
   "pygments_lexer": "ipython3",
   "version": "3.5.2"
  }
 },
 "nbformat": 4,
 "nbformat_minor": 1
}
